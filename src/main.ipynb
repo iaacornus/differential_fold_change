{
 "cells": [
  {
   "cell_type": "markdown",
   "metadata": {},
   "source": [
    "# Differential fold change\n",
    "\n",
    "calculated based on the equation:\n",
    "\n",
    "$FPKM = \\log_{2}\\left(\\dfrac{1 + FPKM_{t}}{1 + FPKM_{c}}\\right)$\n",
    "\n",
    "where $FPKM_{T}$ is the FPKM obtained from treatment group and $FPKM_{c}$\n",
    "is obtained from the mock or untreated group."
   ]
  },
  {
   "cell_type": "code",
   "execution_count": 1,
   "metadata": {},
   "outputs": [],
   "source": [
    "# imports\n",
    "\n",
    "from os import path\n",
    "\n",
    "import numpy as np\n",
    "import pandas as pd\n",
    "from matplotlib import pyplot as plt\n",
    "\n",
    "from scripts.pre_proc import PreProcessData\n"
   ]
  },
  {
   "cell_type": "code",
   "execution_count": 8,
   "metadata": {},
   "outputs": [],
   "source": [
    "BASE_PATH: str = path.abspath(\"..\")\n",
    "PATH: str = f\"{BASE_PATH}/expression_datasets\"\n",
    "OUT_PATH: str = f\"{BASE_PATH}/pre_proc_data\"\n"
   ]
  },
  {
   "cell_type": "code",
   "execution_count": 9,
   "metadata": {},
   "outputs": [],
   "source": [
    "data: PreProcessData = PreProcessData(PATH)\n"
   ]
  },
  {
   "cell_type": "code",
   "execution_count": 10,
   "metadata": {},
   "outputs": [
    {
     "data": {
      "text/plain": [
       "1"
      ]
     },
     "execution_count": 10,
     "metadata": {},
     "output_type": "execute_result"
    }
   ],
   "source": [
    "data.fetch()\n"
   ]
  },
  {
   "cell_type": "code",
   "execution_count": 11,
   "metadata": {},
   "outputs": [
    {
     "data": {
      "text/plain": [
       "(33,\n",
       " ['LOC_OS01G25484 (NiR).xls',\n",
       "  'LOC_OS01G62420 (TPI).xls',\n",
       "  'LOC_OS01G62900 (P5CS2).xls',\n",
       "  'LOC_OS01G71990 (P5CR).xls',\n",
       "  'LOC_OS02G02400 (CATA).xls',\n",
       "  'LOC_OS02G28110 (ODC).xls',\n",
       "  'LOC_OS02G38010 (DAO5).xls',\n",
       "  'LOC_OS03G03910 (CATC).xls',\n",
       "  'LOC_OS03G13300 (GAD3).xls',\n",
       "  'LOC_OS03G44150 (OAT).xls',\n",
       "  'LOC_OS03G51080 (GAD4).xls',\n",
       "  'LOC_OS04G20164 (DAO2).xls',\n",
       "  'LOC_OS04G37500 (GAD2).xls',\n",
       "  'LOC_OS04G39020 (BADH1).xls',\n",
       "  'LOC_OS04G40030 (FBO17).xls',\n",
       "  'LOC_OS04G40040 (DAO4).xls',\n",
       "  'LOC_OS04G40950 (GAPC2).xls',\n",
       "  'LOC_OS04G46960 (GPX1).xls',\n",
       "  'LOC_OS04G56400 (GS2).xls',\n",
       "  'LOC_OS05G38150 (P5CS1).xls',\n",
       "  'LOC_OS06G08670 (GPX4).xls',\n",
       "  'LOC_OS06G2314 (DAO1).xls',\n",
       "  'LOC_OS06G37500 (CKX10).xls',\n",
       "  'LOC_OS06G51150 (CATB).xls',\n",
       "  'LOC_OS07G06890 (D-LDH).xls',\n",
       "  'LOC_OS07G46460 (fd-GOGAT).xls',\n",
       "  'LOC_OS07G46990 (SODCC2).xls',\n",
       "  'LOC_OS07G49400 (APX2).xls',\n",
       "  'LOC_OS08G32870 (BADH2).xls',\n",
       "  'LOC_OS08G32970 (ANN7).xls',\n",
       "  'LOC_OS08G36320 (GAD1).xls',\n",
       "  'LOC_OS08G36480 (NR1).xls',\n",
       "  'LOC_OS10G40360 (PRODH).xls'])"
      ]
     },
     "execution_count": 11,
     "metadata": {},
     "output_type": "execute_result"
    }
   ],
   "source": [
    "len(data.file_paths), data.file_paths\n"
   ]
  },
  {
   "cell_type": "code",
   "execution_count": 22,
   "metadata": {},
   "outputs": [
    {
     "data": {
      "text/plain": [
       "1"
      ]
     },
     "execution_count": 22,
     "metadata": {},
     "output_type": "execute_result"
    }
   ],
   "source": [
    "data.rename_all(\n",
    "    data.file_paths,\n",
    "    OUT_PATH\n",
    ")\n"
   ]
  },
  {
   "cell_type": "markdown",
   "metadata": {},
   "source": [
    "# Data treatment"
   ]
  },
  {
   "cell_type": "code",
   "execution_count": null,
   "metadata": {},
   "outputs": [],
   "source": [
    "exclude: list[str] = [\n",
    "        # excluded\n",
    "    ]\n"
   ]
  },
  {
   "cell_type": "code",
   "execution_count": null,
   "metadata": {},
   "outputs": [],
   "source": [
    "include: list[str] = [\n",
    "        # included\n",
    "    ]\n"
   ]
  },
  {
   "cell_type": "markdown",
   "metadata": {},
   "source": [
    "# Calculation"
   ]
  },
  {
   "cell_type": "code",
   "execution_count": 18,
   "metadata": {},
   "outputs": [
    {
     "name": "stdout",
     "output_type": "stream",
     "text": [
      "          Sample                             SampleName  LOC_OS01G25484  \\\n",
      "0      DRX000191            root under normal condition            87.9   \n",
      "1      DRX000192         root 1hr after salinity stress            73.2   \n",
      "2      DRX000193           shoot under normal condition            80.2   \n",
      "3      DRX000194        shoot 1hr after salinity stress            72.7   \n",
      "4      DRX000459         Phosphate starvation_1day_Root           161.4   \n",
      "...          ...                                    ...             ...   \n",
      "11721  SRX997482        PXO99A with dTal280 replicate 1            61.0   \n",
      "11722  SRX997483        PXO99A with dTal280 replicate 2            72.5   \n",
      "11723  SRX997484  PXO99A with BLS256 Tal11b replicate 1            65.8   \n",
      "11724  SRX997485  PXO99A with BLS256 Tal11b replicate 2            87.3   \n",
      "11725  SRX999925                              wild type           170.3   \n",
      "\n",
      "      Tissue    Cultivar   Genotype                  Treatment      Project  \\\n",
      "0       root  Nipponbare         --                         --   PRJDA46487   \n",
      "1       root  Nipponbare         --                         --   PRJDA46487   \n",
      "2      shoot  Nipponbare         --                         --   PRJDA46487   \n",
      "3      shoot  Nipponbare         --                         --   PRJDA46487   \n",
      "4       root  Nipponbare         --                    P- 1day   PRJDA60497   \n",
      "...      ...         ...        ...                        ...          ...   \n",
      "11721   leaf  Nipponbare         --        PXO99A with dTal280  PRJNA281369   \n",
      "11722   leaf  Nipponbare         --        PXO99A with dTal280  PRJNA281369   \n",
      "11723   leaf  Nipponbare         --  PXO99A with BLS256 Tal11b  PRJNA281369   \n",
      "11724   leaf  Nipponbare         --  PXO99A with BLS256 Tal11b  PRJNA281369   \n",
      "11725   leaf          --  wild type                    control  PRJNA281027   \n",
      "\n",
      "       TotalReads  UniquelyMappedRate ReleaseDate  \n",
      "0        40514926              0.5921   2010/12/1  \n",
      "1        67473819              0.5009   2010/12/1  \n",
      "2        64226640              0.5460   2010/12/1  \n",
      "3        55679052              0.5551   2010/12/1  \n",
      "4        18456442              0.2640    2012/1/5  \n",
      "...           ...                 ...         ...  \n",
      "11721    29595813              0.9440    2015/5/1  \n",
      "11722    74088605              0.9528    2015/5/1  \n",
      "11723    18174050              0.9628    2015/5/1  \n",
      "11724    26288154              0.9623    2015/5/1  \n",
      "11725    17014181              0.9480   2016/4/16  \n",
      "\n",
      "[11726 rows x 11 columns]\n"
     ]
    }
   ],
   "source": []
  },
  {
   "cell_type": "code",
   "execution_count": null,
   "metadata": {},
   "outputs": [],
   "source": []
  }
 ],
 "metadata": {
  "kernelspec": {
   "display_name": "Python 3",
   "language": "python",
   "name": "python3"
  },
  "language_info": {
   "codemirror_mode": {
    "name": "ipython",
    "version": 3
   },
   "file_extension": ".py",
   "mimetype": "text/x-python",
   "name": "python",
   "nbconvert_exporter": "python",
   "pygments_lexer": "ipython3",
   "version": "3.10.13"
  }
 },
 "nbformat": 4,
 "nbformat_minor": 2
}
