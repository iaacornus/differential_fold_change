{
 "cells": [
  {
   "cell_type": "markdown",
   "metadata": {},
   "source": [
    "# Differential fold change\n",
    "\n",
    "calculated based on the equation:\n",
    "\n",
    "$FPKM = \\log_{2}\\left(\\dfrac{1 + FPKM_{t}}{1 + FPKM_{c}}\\right)$\n",
    "\n",
    "where $FPKM_{T}$ is the FPKM obtained from treatment group and $FPKM_{c}$\n",
    "is obtained from the mock or untreated group."
   ]
  },
  {
   "cell_type": "code",
   "execution_count": 1,
   "metadata": {},
   "outputs": [],
   "source": [
    "# imports\n",
    "\n",
    "from os import path\n",
    "\n",
    "import numpy as np\n",
    "import pandas as pd\n",
    "from matplotlib import pyplot as plt\n",
    "\n",
    "from scripts.pre_proc import PreProcessData\n"
   ]
  },
  {
   "cell_type": "code",
   "execution_count": 2,
   "metadata": {},
   "outputs": [],
   "source": [
    "BASE_PATH: str = path.abspath(\"..\")\n",
    "PATH: str = f\"{BASE_PATH}/expression_datasets\"\n"
   ]
  },
  {
   "cell_type": "code",
   "execution_count": 3,
   "metadata": {},
   "outputs": [],
   "source": [
    "data: PreProcessData = PreProcessData(PATH)\n"
   ]
  },
  {
   "cell_type": "code",
   "execution_count": 4,
   "metadata": {},
   "outputs": [
    {
     "data": {
      "text/plain": [
       "1"
      ]
     },
     "execution_count": 4,
     "metadata": {},
     "output_type": "execute_result"
    }
   ],
   "source": [
    "data.fetch()\n"
   ]
  },
  {
   "cell_type": "code",
   "execution_count": 5,
   "metadata": {},
   "outputs": [
    {
     "data": {
      "text/plain": [
       "(33,\n",
       " ['LOC_OS01G25484 (NiR).xls',\n",
       "  'LOC_OS01G62420 (TPI).xls',\n",
       "  'LOC_OS01G62900 (P5CS2).xls',\n",
       "  'LOC_OS01G71990 (P5CR).xls',\n",
       "  'LOC_OS02G02400 (CATA).xls',\n",
       "  'LOC_OS02G28110 (ODC).xls',\n",
       "  'LOC_OS02G38010 (DAO5).xls',\n",
       "  'LOC_OS03G03910 (CATC).xls',\n",
       "  'LOC_OS03G13300 (GAD3).xls',\n",
       "  'LOC_OS03G44150 (OAT).xls',\n",
       "  'LOC_OS03G51080 (GAD4).xls',\n",
       "  'LOC_OS04G20164 (DAO2).xls',\n",
       "  'LOC_OS04G37500 (GAD2).xls',\n",
       "  'LOC_OS04G39020 (BADH1).xls',\n",
       "  'LOC_OS04G40030 (FBO17).xls',\n",
       "  'LOC_OS04G40040 (DAO4).xls',\n",
       "  'LOC_OS04G40950 (GAPC2).xls',\n",
       "  'LOC_OS04G46960 (GPX1).xls',\n",
       "  'LOC_OS04G56400 (GS2).xls',\n",
       "  'LOC_OS05G38150 (P5CS1).xls',\n",
       "  'LOC_OS06G08670 (GPX4).xls',\n",
       "  'LOC_OS06G2314 (DAO1).xls',\n",
       "  'LOC_OS06G37500 (CKX10).xls',\n",
       "  'LOC_OS06G51150 (CATB).xls',\n",
       "  'LOC_OS07G06890 (D-LDH).xls',\n",
       "  'LOC_OS07G46460 (fd-GOGAT).xls',\n",
       "  'LOC_OS07G46990 (SODCC2).xls',\n",
       "  'LOC_OS07G49400 (APX2).xls',\n",
       "  'LOC_OS08G32870 (BADH2).xls',\n",
       "  'LOC_OS08G32970 (ANN7).xls',\n",
       "  'LOC_OS08G36320 (GAD1).xls',\n",
       "  'LOC_OS08G36480 (NR1).xls',\n",
       "  'LOC_OS10G40360 (PRODH).xls'])"
      ]
     },
     "execution_count": 5,
     "metadata": {},
     "output_type": "execute_result"
    }
   ],
   "source": [
    "len(data.file_paths), data.file_paths\n"
   ]
  },
  {
   "cell_type": "code",
   "execution_count": 6,
   "metadata": {},
   "outputs": [
    {
     "data": {
      "text/plain": [
       "1"
      ]
     },
     "execution_count": 6,
     "metadata": {},
     "output_type": "execute_result"
    }
   ],
   "source": [
    "data.rename_all(\n",
    "    data.file_paths,\n",
    "    f\"{BASE_PATH}/pre_proc_data\"\n",
    ")\n"
   ]
  },
  {
   "cell_type": "code",
   "execution_count": null,
   "metadata": {},
   "outputs": [],
   "source": [
    "    "
   ]
  }
 ],
 "metadata": {
  "kernelspec": {
   "display_name": "Python 3",
   "language": "python",
   "name": "python3"
  },
  "language_info": {
   "codemirror_mode": {
    "name": "ipython",
    "version": 3
   },
   "file_extension": ".py",
   "mimetype": "text/x-python",
   "name": "python",
   "nbconvert_exporter": "python",
   "pygments_lexer": "ipython3",
   "version": "3.10.13"
  }
 },
 "nbformat": 4,
 "nbformat_minor": 2
}
