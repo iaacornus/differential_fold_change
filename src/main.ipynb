{
 "cells": [
  {
   "cell_type": "markdown",
   "metadata": {},
   "source": [
    "# Differential fold change\n",
    "\n",
    "calculated based on the equation:\n",
    "\n",
    "$FPKM = \\log_{2}\\left(\\dfrac{1 + FPKM_{t}}{1 + FPKM_{c}}\\right)$\n",
    "\n",
    "where $FPKM_{T}$ is the FPKM obtained from treatment group and $FPKM_{c}$\n",
    "is obtained from the mock or untreated group."
   ]
  },
  {
   "cell_type": "code",
   "execution_count": 1,
   "metadata": {},
   "outputs": [],
   "source": [
    "# imports\n",
    "\n",
    "from os import path\n",
    "\n",
    "import numpy as np\n",
    "import pandas as pd\n",
    "from matplotlib import pyplot as plt\n",
    "\n",
    "from scripts.pre_proc import PreProcessData\n"
   ]
  },
  {
   "cell_type": "code",
   "execution_count": 2,
   "metadata": {},
   "outputs": [],
   "source": [
    "BASE_PATH: str = path.abspath(\"..\")\n",
    "PATH: str = f\"{BASE_PATH}/expression_datasets\"\n",
    "OUT_PATH: str = f\"{BASE_PATH}/pre_proc_data\"\n"
   ]
  },
  {
   "cell_type": "code",
   "execution_count": 3,
   "metadata": {},
   "outputs": [],
   "source": [
    "data: PreProcessData = PreProcessData(PATH)\n"
   ]
  },
  {
   "cell_type": "code",
   "execution_count": 4,
   "metadata": {},
   "outputs": [
    {
     "data": {
      "text/plain": [
       "1"
      ]
     },
     "execution_count": 4,
     "metadata": {},
     "output_type": "execute_result"
    }
   ],
   "source": [
    "data.fetch()\n"
   ]
  },
  {
   "cell_type": "code",
   "execution_count": 5,
   "metadata": {},
   "outputs": [
    {
     "data": {
      "text/plain": [
       "(33,\n",
       " ['LOC_OS01G25484 (NiR).xls',\n",
       "  'LOC_OS01G62420 (TPI).xls',\n",
       "  'LOC_OS01G62900 (P5CS2).xls',\n",
       "  'LOC_OS01G71990 (P5CR).xls',\n",
       "  'LOC_OS02G02400 (CATA).xls',\n",
       "  'LOC_OS02G28110 (ODC).xls',\n",
       "  'LOC_OS02G38010 (DAO5).xls',\n",
       "  'LOC_OS03G03910 (CATC).xls',\n",
       "  'LOC_OS03G13300 (GAD3).xls',\n",
       "  'LOC_OS03G44150 (OAT).xls',\n",
       "  'LOC_OS03G51080 (GAD4).xls',\n",
       "  'LOC_OS04G20164 (DAO2).xls',\n",
       "  'LOC_OS04G37500 (GAD2).xls',\n",
       "  'LOC_OS04G39020 (BADH1).xls',\n",
       "  'LOC_OS04G40030 (FBO17).xls',\n",
       "  'LOC_OS04G40040 (DAO4).xls',\n",
       "  'LOC_OS04G40950 (GAPC2).xls',\n",
       "  'LOC_OS04G46960 (GPX1).xls',\n",
       "  'LOC_OS04G56400 (GS2).xls',\n",
       "  'LOC_OS05G38150 (P5CS1).xls',\n",
       "  'LOC_OS06G08670 (GPX4).xls',\n",
       "  'LOC_OS06G2314 (DAO1).xls',\n",
       "  'LOC_OS06G37500 (CKX10).xls',\n",
       "  'LOC_OS06G51150 (CATB).xls',\n",
       "  'LOC_OS07G06890 (D-LDH).xls',\n",
       "  'LOC_OS07G46460 (fd-GOGAT).xls',\n",
       "  'LOC_OS07G46990 (SODCC2).xls',\n",
       "  'LOC_OS07G49400 (APX2).xls',\n",
       "  'LOC_OS08G32870 (BADH2).xls',\n",
       "  'LOC_OS08G32970 (ANN7).xls',\n",
       "  'LOC_OS08G36320 (GAD1).xls',\n",
       "  'LOC_OS08G36480 (NR1).xls',\n",
       "  'LOC_OS10G40360 (PRODH).xls'])"
      ]
     },
     "execution_count": 5,
     "metadata": {},
     "output_type": "execute_result"
    }
   ],
   "source": [
    "len(data.file_paths), data.file_paths\n"
   ]
  },
  {
   "cell_type": "code",
   "execution_count": 6,
   "metadata": {},
   "outputs": [
    {
     "data": {
      "text/plain": [
       "1"
      ]
     },
     "execution_count": 6,
     "metadata": {},
     "output_type": "execute_result"
    }
   ],
   "source": [
    "data.rename_all(\n",
    "    data.file_paths,\n",
    "    OUT_PATH\n",
    ")\n"
   ]
  },
  {
   "cell_type": "markdown",
   "metadata": {},
   "source": [
    "# Data treatment"
   ]
  },
  {
   "cell_type": "code",
   "execution_count": 48,
   "metadata": {},
   "outputs": [],
   "source": [
    "exclude: list[str] = [\n",
    "        \"Genotype\",\n",
    "        \"Project\",\n",
    "        \"ReleaseDate\",\n",
    "        \"Cultivar\",\n",
    "        \"TotalReads\",\n",
    "        \"UniquelyMappedRate\"\n",
    "    ]\n"
   ]
  },
  {
   "cell_type": "code",
   "execution_count": 8,
   "metadata": {},
   "outputs": [
    {
     "data": {
      "text/plain": [
       "1"
      ]
     },
     "execution_count": 8,
     "metadata": {},
     "output_type": "execute_result"
    }
   ],
   "source": [
    "data.fetch(PATH=OUT_PATH, update=True)\n"
   ]
  },
  {
   "cell_type": "code",
   "execution_count": 63,
   "metadata": {},
   "outputs": [],
   "source": [
    "for file in data.file_paths:\n",
    "    df: pd.DataFrame = pd.read_table(\n",
    "            f\"{OUT_PATH}/{file}\"\n",
    "        ).drop(\n",
    "            exclude, axis=1\n",
    "        )\n",
    "\n",
    "    df.drop(\n",
    "        df.index[\n",
    "                [\n",
    "                val for val in df[\n",
    "                        df[\"Treatment\"]==\"--\"\n",
    "                    ]\n",
    "                        .index\n",
    "                        .values\n",
    "                        .astype(list)\n",
    "            ]\n",
    "        ],\n",
    "        inplace=True\n",
    "    )\n",
    "    df.dropna(how=\"all\", axis=\"columns\")\n",
    "\n",
    "    df.to_csv(\n",
    "        f\"{OUT_PATH}/{file.replace('.xls', '.csv')}\"\n",
    "    )\n",
    "\n"
   ]
  },
  {
   "cell_type": "markdown",
   "metadata": {},
   "source": [
    "# Calculation\n",
    "\n",
    "$FPKM = \\log_{2}\\left(\\dfrac{1 + FPKM_{t}}{1 + FPKM_{c}}\\right)$"
   ]
  },
  {
   "cell_type": "code",
   "execution_count": null,
   "metadata": {},
   "outputs": [],
   "source": [
    "biotic_stress: list[str] = [\n",
    "        \"Xanthomonas oryzae pv. Oryzae\",\n",
    "        \"Xanthomonas oryzae pv. oryzicola\",\n",
    "        \"Magnaporthe oryzae\",\n",
    "        \"Rhizoctonia solani (R. solani)\"\n",
    "    ]\n",
    "abiotic_stress: list[str] = [\n",
    "        \"cold\",\n",
    "        \"flood\",\n",
    "        \"submerged\",\n",
    "        \"osmotic\",\n",
    "        \"low cadmium\",\n",
    "        \"verylow cadmium\"\n",
    "        \"iron\",\n",
    "        \"zinc\",\n",
    "        \"nitrogen\",\n",
    "        \"copper\",\n",
    "        \"manganese\"\n",
    "    ]"
   ]
  },
  {
   "cell_type": "code",
   "execution_count": null,
   "metadata": {},
   "outputs": [],
   "source": [
    "def check_val(\n",
    "        dataframe,\n",
    "        samplename,\n",
    "        flood,\n",
    "        cold,\n",
    "        submerged,\n",
    "        osmotic,\n",
    "        lowcd,\n",
    "        vlcd,\n",
    "        iron,\n",
    "        zinc,\n",
    "        nitrogen,\n",
    "        copper,\n",
    "        manganese\n",
    "    ):\n",
    "\n",
    "    if (\"flood\" in dataframe) or (\"flood\" in samplename):\n",
    "        flood.append(\n",
    "            df.iloc[:, 3][\n",
    "                    df[\n",
    "                        df[\"Treatment\"]==\"control\"]\n",
    "                            .index\n",
    "                            .values\n",
    "                            .astype(\n",
    "                                int\n",
    "                            )[0\n",
    "                    ]\n",
    "                ]\n",
    "        )"
   ]
  },
  {
   "cell_type": "code",
   "execution_count": 13,
   "metadata": {},
   "outputs": [
    {
     "ename": "KeyboardInterrupt",
     "evalue": "",
     "output_type": "error",
     "traceback": [
      "\u001b[0;31m---------------------------------------------------------------------------\u001b[0m",
      "\u001b[0;31mKeyboardInterrupt\u001b[0m                         Traceback (most recent call last)",
      "Cell \u001b[0;32mIn[13], line 24\u001b[0m\n\u001b[1;32m     19\u001b[0m \u001b[38;5;28;01mfor\u001b[39;00m treatment, samplename \u001b[38;5;129;01min\u001b[39;00m \u001b[38;5;28mzip\u001b[39m(df[\u001b[38;5;124m\"\u001b[39m\u001b[38;5;124mTreatment\u001b[39m\u001b[38;5;124m\"\u001b[39m], df[\u001b[38;5;124m\"\u001b[39m\u001b[38;5;124mSampleName\u001b[39m\u001b[38;5;124m\"\u001b[39m]):\n\u001b[1;32m     20\u001b[0m     \u001b[38;5;28;01mif\u001b[39;00m (\u001b[38;5;124m\"\u001b[39m\u001b[38;5;124mcontrol\u001b[39m\u001b[38;5;124m\"\u001b[39m \u001b[38;5;129;01min\u001b[39;00m \u001b[38;5;28mstr\u001b[39m(treatment)) \u001b[38;5;129;01mor\u001b[39;00m (\u001b[38;5;124m\"\u001b[39m\u001b[38;5;124mcontrol\u001b[39m\u001b[38;5;124m\"\u001b[39m \u001b[38;5;129;01min\u001b[39;00m samplename):\n\u001b[1;32m     21\u001b[0m         control\u001b[38;5;241m.\u001b[39mappend(\n\u001b[1;32m     22\u001b[0m             df\u001b[38;5;241m.\u001b[39miloc[:, \u001b[38;5;241m3\u001b[39m][\n\u001b[1;32m     23\u001b[0m                     df[\n\u001b[0;32m---> 24\u001b[0m                         \u001b[43mdf\u001b[49m\u001b[43m[\u001b[49m\u001b[38;5;124;43m\"\u001b[39;49m\u001b[38;5;124;43mTreatment\u001b[39;49m\u001b[38;5;124;43m\"\u001b[39;49m\u001b[43m]\u001b[49m\u001b[38;5;241;43m==\u001b[39;49m\u001b[38;5;124;43m\"\u001b[39;49m\u001b[38;5;124;43mcontrol\u001b[39;49m\u001b[38;5;124;43m\"\u001b[39;49m]\n\u001b[1;32m     25\u001b[0m                             \u001b[38;5;241m.\u001b[39mindex\n\u001b[1;32m     26\u001b[0m                             \u001b[38;5;241m.\u001b[39mvalues\n\u001b[1;32m     27\u001b[0m                             \u001b[38;5;241m.\u001b[39mastype(\n\u001b[1;32m     28\u001b[0m                                 \u001b[38;5;28mint\u001b[39m\n\u001b[1;32m     29\u001b[0m                             )[\u001b[38;5;241m0\u001b[39m\n\u001b[1;32m     30\u001b[0m                     ]\n\u001b[1;32m     31\u001b[0m                 ]\n\u001b[1;32m     32\u001b[0m         )\n",
      "File \u001b[0;32m~/.anaconda3/envs/venv/lib/python3.10/site-packages/pandas/core/ops/common.py:81\u001b[0m, in \u001b[0;36m_unpack_zerodim_and_defer.<locals>.new_method\u001b[0;34m(self, other)\u001b[0m\n\u001b[1;32m     77\u001b[0m             \u001b[38;5;28;01mreturn\u001b[39;00m \u001b[38;5;28mNotImplemented\u001b[39m\n\u001b[1;32m     79\u001b[0m other \u001b[38;5;241m=\u001b[39m item_from_zerodim(other)\n\u001b[0;32m---> 81\u001b[0m \u001b[38;5;28;01mreturn\u001b[39;00m \u001b[43mmethod\u001b[49m\u001b[43m(\u001b[49m\u001b[38;5;28;43mself\u001b[39;49m\u001b[43m,\u001b[49m\u001b[43m \u001b[49m\u001b[43mother\u001b[49m\u001b[43m)\u001b[49m\n",
      "File \u001b[0;32m~/.anaconda3/envs/venv/lib/python3.10/site-packages/pandas/core/arraylike.py:40\u001b[0m, in \u001b[0;36mOpsMixin.__eq__\u001b[0;34m(self, other)\u001b[0m\n\u001b[1;32m     38\u001b[0m \u001b[38;5;129m@unpack_zerodim_and_defer\u001b[39m(\u001b[38;5;124m\"\u001b[39m\u001b[38;5;124m__eq__\u001b[39m\u001b[38;5;124m\"\u001b[39m)\n\u001b[1;32m     39\u001b[0m \u001b[38;5;28;01mdef\u001b[39;00m \u001b[38;5;21m__eq__\u001b[39m(\u001b[38;5;28mself\u001b[39m, other):\n\u001b[0;32m---> 40\u001b[0m     \u001b[38;5;28;01mreturn\u001b[39;00m \u001b[38;5;28;43mself\u001b[39;49m\u001b[38;5;241;43m.\u001b[39;49m\u001b[43m_cmp_method\u001b[49m\u001b[43m(\u001b[49m\u001b[43mother\u001b[49m\u001b[43m,\u001b[49m\u001b[43m \u001b[49m\u001b[43moperator\u001b[49m\u001b[38;5;241;43m.\u001b[39;49m\u001b[43meq\u001b[49m\u001b[43m)\u001b[49m\n",
      "File \u001b[0;32m~/.anaconda3/envs/venv/lib/python3.10/site-packages/pandas/core/series.py:6096\u001b[0m, in \u001b[0;36mSeries._cmp_method\u001b[0;34m(self, other, op)\u001b[0m\n\u001b[1;32m   6093\u001b[0m rvalues \u001b[38;5;241m=\u001b[39m extract_array(other, extract_numpy\u001b[38;5;241m=\u001b[39m\u001b[38;5;28;01mTrue\u001b[39;00m, extract_range\u001b[38;5;241m=\u001b[39m\u001b[38;5;28;01mTrue\u001b[39;00m)\n\u001b[1;32m   6095\u001b[0m \u001b[38;5;28;01mwith\u001b[39;00m np\u001b[38;5;241m.\u001b[39merrstate(\u001b[38;5;28mall\u001b[39m\u001b[38;5;241m=\u001b[39m\u001b[38;5;124m\"\u001b[39m\u001b[38;5;124mignore\u001b[39m\u001b[38;5;124m\"\u001b[39m):\n\u001b[0;32m-> 6096\u001b[0m     res_values \u001b[38;5;241m=\u001b[39m \u001b[43mops\u001b[49m\u001b[38;5;241;43m.\u001b[39;49m\u001b[43mcomparison_op\u001b[49m\u001b[43m(\u001b[49m\u001b[43mlvalues\u001b[49m\u001b[43m,\u001b[49m\u001b[43m \u001b[49m\u001b[43mrvalues\u001b[49m\u001b[43m,\u001b[49m\u001b[43m \u001b[49m\u001b[43mop\u001b[49m\u001b[43m)\u001b[49m\n\u001b[1;32m   6098\u001b[0m \u001b[38;5;28;01mreturn\u001b[39;00m \u001b[38;5;28mself\u001b[39m\u001b[38;5;241m.\u001b[39m_construct_result(res_values, name\u001b[38;5;241m=\u001b[39mres_name)\n",
      "File \u001b[0;32m~/.anaconda3/envs/venv/lib/python3.10/site-packages/pandas/core/ops/array_ops.py:293\u001b[0m, in \u001b[0;36mcomparison_op\u001b[0;34m(left, right, op)\u001b[0m\n\u001b[1;32m    290\u001b[0m     \u001b[38;5;28;01mreturn\u001b[39;00m invalid_comparison(lvalues, rvalues, op)\n\u001b[1;32m    292\u001b[0m \u001b[38;5;28;01melif\u001b[39;00m is_object_dtype(lvalues\u001b[38;5;241m.\u001b[39mdtype) \u001b[38;5;129;01mor\u001b[39;00m \u001b[38;5;28misinstance\u001b[39m(rvalues, \u001b[38;5;28mstr\u001b[39m):\n\u001b[0;32m--> 293\u001b[0m     res_values \u001b[38;5;241m=\u001b[39m \u001b[43mcomp_method_OBJECT_ARRAY\u001b[49m\u001b[43m(\u001b[49m\u001b[43mop\u001b[49m\u001b[43m,\u001b[49m\u001b[43m \u001b[49m\u001b[43mlvalues\u001b[49m\u001b[43m,\u001b[49m\u001b[43m \u001b[49m\u001b[43mrvalues\u001b[49m\u001b[43m)\u001b[49m\n\u001b[1;32m    295\u001b[0m \u001b[38;5;28;01melse\u001b[39;00m:\n\u001b[1;32m    296\u001b[0m     res_values \u001b[38;5;241m=\u001b[39m _na_arithmetic_op(lvalues, rvalues, op, is_cmp\u001b[38;5;241m=\u001b[39m\u001b[38;5;28;01mTrue\u001b[39;00m)\n",
      "File \u001b[0;32m~/.anaconda3/envs/venv/lib/python3.10/site-packages/pandas/core/ops/array_ops.py:82\u001b[0m, in \u001b[0;36mcomp_method_OBJECT_ARRAY\u001b[0;34m(op, x, y)\u001b[0m\n\u001b[1;32m     80\u001b[0m     result \u001b[38;5;241m=\u001b[39m libops\u001b[38;5;241m.\u001b[39mvec_compare(x\u001b[38;5;241m.\u001b[39mravel(), y\u001b[38;5;241m.\u001b[39mravel(), op)\n\u001b[1;32m     81\u001b[0m \u001b[38;5;28;01melse\u001b[39;00m:\n\u001b[0;32m---> 82\u001b[0m     result \u001b[38;5;241m=\u001b[39m \u001b[43mlibops\u001b[49m\u001b[38;5;241;43m.\u001b[39;49m\u001b[43mscalar_compare\u001b[49m\u001b[43m(\u001b[49m\u001b[43mx\u001b[49m\u001b[38;5;241;43m.\u001b[39;49m\u001b[43mravel\u001b[49m\u001b[43m(\u001b[49m\u001b[43m)\u001b[49m\u001b[43m,\u001b[49m\u001b[43m \u001b[49m\u001b[43my\u001b[49m\u001b[43m,\u001b[49m\u001b[43m \u001b[49m\u001b[43mop\u001b[49m\u001b[43m)\u001b[49m\n\u001b[1;32m     83\u001b[0m \u001b[38;5;28;01mreturn\u001b[39;00m result\u001b[38;5;241m.\u001b[39mreshape(x\u001b[38;5;241m.\u001b[39mshape)\n",
      "\u001b[0;31mKeyboardInterrupt\u001b[0m: "
     ]
    }
   ],
   "source": [
    "for file in data.file_paths:\n",
    "    df: pd.DataFrame = pd.read_csv(\n",
    "            f\"{OUT_PATH}/{file.replace('.xls', '.csv')}\"\n",
    "        )\n",
    "\n",
    "    calculated: dict[str, float] = {}\n",
    "\n",
    "    for treatment, samplename in zip(df[\"Treatment\"], df[\"SampleName\"]):\n",
    "        control: list[float] = []\n",
    "        stress: list[float] = []\n",
    "\n",
    "        if (\"control\" in str(treatment)) or (\"control\" in samplename):\n",
    "            control.append(\n",
    "                df.iloc[:, 3][\n",
    "                        df[\n",
    "                            df[\"Treatment\"]==\"control\"]\n",
    "                                .index\n",
    "                                .values\n",
    "                                .astype(\n",
    "                                    int\n",
    "                                )[0\n",
    "                        ]\n",
    "                    ]\n",
    "            )\n",
    "\n",
    "        # for astress in abiotic_stress:\n",
    "        #     if abiotic_stress in str(treatment):\n",
    "\n"
   ]
  },
  {
   "cell_type": "code",
   "execution_count": null,
   "metadata": {},
   "outputs": [
    {
     "name": "stdout",
     "output_type": "stream",
     "text": [
      "10.7\n"
     ]
    }
   ],
   "source": [
    "print(\n",
    "    df.iloc[:, 3][\n",
    "            df[\n",
    "                df[\"Treatment\"]==\"Pi- 22day\"]\n",
    "                    .index\n",
    "                    .values\n",
    "                    .astype(\n",
    "                        int\n",
    "                    )[0\n",
    "            ]\n",
    "        ]\n",
    ")"
   ]
  },
  {
   "cell_type": "code",
   "execution_count": 14,
   "metadata": {},
   "outputs": [
    {
     "data": {
      "text/html": [
       "<div>\n",
       "<style scoped>\n",
       "    .dataframe tbody tr th:only-of-type {\n",
       "        vertical-align: middle;\n",
       "    }\n",
       "\n",
       "    .dataframe tbody tr th {\n",
       "        vertical-align: top;\n",
       "    }\n",
       "\n",
       "    .dataframe thead th {\n",
       "        text-align: right;\n",
       "    }\n",
       "</style>\n",
       "<table border=\"1\" class=\"dataframe\">\n",
       "  <thead>\n",
       "    <tr style=\"text-align: right;\">\n",
       "      <th></th>\n",
       "      <th>Unnamed: 0</th>\n",
       "      <th>Sample</th>\n",
       "      <th>SampleName</th>\n",
       "      <th>LOC_OS04G40040</th>\n",
       "      <th>Tissue</th>\n",
       "      <th>Treatment</th>\n",
       "    </tr>\n",
       "  </thead>\n",
       "  <tbody>\n",
       "    <tr>\n",
       "      <th>0</th>\n",
       "      <td>0</td>\n",
       "      <td>DRX000191</td>\n",
       "      <td>root under normal condition</td>\n",
       "      <td>140.2</td>\n",
       "      <td>root</td>\n",
       "      <td>--</td>\n",
       "    </tr>\n",
       "    <tr>\n",
       "      <th>1</th>\n",
       "      <td>1</td>\n",
       "      <td>DRX000192</td>\n",
       "      <td>root 1hr after salinity stress</td>\n",
       "      <td>105.7</td>\n",
       "      <td>root</td>\n",
       "      <td>--</td>\n",
       "    </tr>\n",
       "    <tr>\n",
       "      <th>2</th>\n",
       "      <td>2</td>\n",
       "      <td>DRX000193</td>\n",
       "      <td>shoot under normal condition</td>\n",
       "      <td>81.8</td>\n",
       "      <td>shoot</td>\n",
       "      <td>--</td>\n",
       "    </tr>\n",
       "    <tr>\n",
       "      <th>3</th>\n",
       "      <td>3</td>\n",
       "      <td>DRX000194</td>\n",
       "      <td>shoot 1hr after salinity stress</td>\n",
       "      <td>71.1</td>\n",
       "      <td>shoot</td>\n",
       "      <td>--</td>\n",
       "    </tr>\n",
       "    <tr>\n",
       "      <th>4</th>\n",
       "      <td>4</td>\n",
       "      <td>DRX000459</td>\n",
       "      <td>Phosphate starvation_1day_Root</td>\n",
       "      <td>40.9</td>\n",
       "      <td>root</td>\n",
       "      <td>P- 1day</td>\n",
       "    </tr>\n",
       "    <tr>\n",
       "      <th>...</th>\n",
       "      <td>...</td>\n",
       "      <td>...</td>\n",
       "      <td>...</td>\n",
       "      <td>...</td>\n",
       "      <td>...</td>\n",
       "      <td>...</td>\n",
       "    </tr>\n",
       "    <tr>\n",
       "      <th>11721</th>\n",
       "      <td>11721</td>\n",
       "      <td>SRX997482</td>\n",
       "      <td>PXO99A with dTal280 replicate 1</td>\n",
       "      <td>88.4</td>\n",
       "      <td>leaf</td>\n",
       "      <td>PXO99A with dTal280</td>\n",
       "    </tr>\n",
       "    <tr>\n",
       "      <th>11722</th>\n",
       "      <td>11722</td>\n",
       "      <td>SRX997483</td>\n",
       "      <td>PXO99A with dTal280 replicate 2</td>\n",
       "      <td>60.8</td>\n",
       "      <td>leaf</td>\n",
       "      <td>PXO99A with dTal280</td>\n",
       "    </tr>\n",
       "    <tr>\n",
       "      <th>11723</th>\n",
       "      <td>11723</td>\n",
       "      <td>SRX997484</td>\n",
       "      <td>PXO99A with BLS256 Tal11b replicate 1</td>\n",
       "      <td>66.3</td>\n",
       "      <td>leaf</td>\n",
       "      <td>PXO99A with BLS256 Tal11b</td>\n",
       "    </tr>\n",
       "    <tr>\n",
       "      <th>11724</th>\n",
       "      <td>11724</td>\n",
       "      <td>SRX997485</td>\n",
       "      <td>PXO99A with BLS256 Tal11b replicate 2</td>\n",
       "      <td>61.5</td>\n",
       "      <td>leaf</td>\n",
       "      <td>PXO99A with BLS256 Tal11b</td>\n",
       "    </tr>\n",
       "    <tr>\n",
       "      <th>11725</th>\n",
       "      <td>11725</td>\n",
       "      <td>SRX999925</td>\n",
       "      <td>wild type</td>\n",
       "      <td>49.1</td>\n",
       "      <td>leaf</td>\n",
       "      <td>control</td>\n",
       "    </tr>\n",
       "  </tbody>\n",
       "</table>\n",
       "<p>11726 rows × 6 columns</p>\n",
       "</div>"
      ],
      "text/plain": [
       "       Unnamed: 0     Sample                             SampleName  \\\n",
       "0               0  DRX000191            root under normal condition   \n",
       "1               1  DRX000192         root 1hr after salinity stress   \n",
       "2               2  DRX000193           shoot under normal condition   \n",
       "3               3  DRX000194        shoot 1hr after salinity stress   \n",
       "4               4  DRX000459         Phosphate starvation_1day_Root   \n",
       "...           ...        ...                                    ...   \n",
       "11721       11721  SRX997482        PXO99A with dTal280 replicate 1   \n",
       "11722       11722  SRX997483        PXO99A with dTal280 replicate 2   \n",
       "11723       11723  SRX997484  PXO99A with BLS256 Tal11b replicate 1   \n",
       "11724       11724  SRX997485  PXO99A with BLS256 Tal11b replicate 2   \n",
       "11725       11725  SRX999925                              wild type   \n",
       "\n",
       "       LOC_OS04G40040 Tissue                  Treatment  \n",
       "0               140.2   root                         --  \n",
       "1               105.7   root                         --  \n",
       "2                81.8  shoot                         --  \n",
       "3                71.1  shoot                         --  \n",
       "4                40.9   root                    P- 1day  \n",
       "...               ...    ...                        ...  \n",
       "11721            88.4   leaf        PXO99A with dTal280  \n",
       "11722            60.8   leaf        PXO99A with dTal280  \n",
       "11723            66.3   leaf  PXO99A with BLS256 Tal11b  \n",
       "11724            61.5   leaf  PXO99A with BLS256 Tal11b  \n",
       "11725            49.1   leaf                    control  \n",
       "\n",
       "[11726 rows x 6 columns]"
      ]
     },
     "execution_count": 14,
     "metadata": {},
     "output_type": "execute_result"
    }
   ],
   "source": [
    "df"
   ]
  },
  {
   "cell_type": "code",
   "execution_count": null,
   "metadata": {},
   "outputs": [],
   "source": []
  }
 ],
 "metadata": {
  "kernelspec": {
   "display_name": "Python 3",
   "language": "python",
   "name": "python3"
  },
  "language_info": {
   "codemirror_mode": {
    "name": "ipython",
    "version": 3
   },
   "file_extension": ".py",
   "mimetype": "text/x-python",
   "name": "python",
   "nbconvert_exporter": "python",
   "pygments_lexer": "ipython3",
   "version": "3.10.13"
  }
 },
 "nbformat": 4,
 "nbformat_minor": 2
}
